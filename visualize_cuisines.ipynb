{
 "cells": [
  {
   "cell_type": "markdown",
   "metadata": {},
   "source": [
    "# What's Cooking?\n",
    "**Description**: Python script to load and visualize What's Cooking Data\n",
    "**Other sources**: used lemmitization code from @DipayanSinhaRoy https://www.kaggle.com/dipayan/whats-cooking/whatscooking-python"
   ]
  },
  {
   "cell_type": "code",
   "execution_count": null,
   "metadata": {
    "collapsed": false
   },
   "outputs": [],
   "source": [
    "# imports\n",
    "%pylab inline\n",
    "import pandas as pd\n",
    "import re\n",
    "\n",
    "from time import time\n",
    "from nltk.stem import WordNetLemmatizer\n",
    "from sklearn.manifold import TSNE\n",
    "from sklearn.feature_extraction.text import TfidfVectorizer\n",
    "from sklearn.preprocessing import LabelEncoder\n",
    "from sklearn.decomposition import PCA"
   ]
  },
  {
   "cell_type": "markdown",
   "metadata": {},
   "source": [
    "## Loading Training Data\n",
    "Here, I read in the json files using the pandas module's json reader. The columns or features for the training data are: *id*, *cuisine* and *ingredients*. The *ingredients* are the **predictors** and *cuisine* is the response."
   ]
  },
  {
   "cell_type": "code",
   "execution_count": null,
   "metadata": {
    "collapsed": true
   },
   "outputs": [],
   "source": [
    "# Read JSON data using pandas\n",
    "# columns are: id, cuisine, ingredients\n",
    "data  = pd.read_json('train.json')\n",
    "\n",
    "labels = LabelEncoder()\n",
    "labels.fit(data.cuisine)\n",
    "all_classes = labels.classes_\n",
    "num_classes = len(all_classes)\n",
    "\n",
    "# Get numerical labels for ytrain \n",
    "y_train = labels.transform(data.cuisine)"
   ]
  },
  {
   "cell_type": "markdown",
   "metadata": {},
   "source": [
    "## Vectorizing Text Features\n",
    "An important step in working with text data is to **vectorize** them somehow for input to standard optimization algorithms. First, I clean up the text input using [WordNet Lemmatization](http://textminingonline.com/dive-into-nltk-part-iv-stemming-and-lemmatization). I then use the [TfidVectorizer](http://scikit-learn.org/stable/modules/feature_extraction.html) from Scikit-learn module to vectorize the ingredient features into an array of floats."
   ]
  },
  {
   "cell_type": "code",
   "execution_count": null,
   "metadata": {
    "collapsed": false
   },
   "outputs": [],
   "source": [
    "# Vectorization of ingredients Using WordNet lemmatization & Tfid\n",
    "data['ingredients_clean_string'] = [' , '.join(z).strip() for z in data['ingredients']]  \n",
    "data['ingredients_string'] = [' '.join([WordNetLemmatizer().lemmatize(re.sub('[^A-Za-z]', ' ', line)) for line in lists]).strip() for lists in data['ingredients']]\n",
    "\n",
    "vectorizer  = TfidfVectorizer(stop_words='english', ngram_range=(1,1), max_df=0.57, analyzer='word', token_pattern=r'\\w+')\n",
    "x_train     = vectorizer.fit_transform(data.ingredients_string).todense()\n",
    "ingred_dict = vectorizer.vocabulary_"
   ]
  },
  {
   "cell_type": "markdown",
   "metadata": {},
   "source": [
    "## Limiting Classes\n",
    "To go easy on my machine's resources (memory and cpu), I limit the number of cuisines/classes to two or three: british(1), chinese(3) and indian(3)."
   ]
  },
  {
   "cell_type": "code",
   "execution_count": null,
   "metadata": {
    "collapsed": false
   },
   "outputs": [],
   "source": [
    "# limit training data: british, chinese & indian\n",
    "idx = np.logical_or(y_train==1, y_train==3)\n",
    "idx = np.logical_or(idx, y_train==7)\n",
    "idx = np.logical_or(idx, y_train==5)\n",
    "idx = np.logical_or(idx, y_train==2)\n",
    "x_train = x_train[idx]\n",
    "y_train = y_train[idx]"
   ]
  },
  {
   "cell_type": "markdown",
   "metadata": {},
   "source": [
    "## Visualization Feature Space\n",
    "Here, I proceed to visualize the feature space using a linear dimensionality reduction technique - Principal Component Analysis (PCA), and then a non-linear one: [t-SNE](http://lvdmaaten.github.io/tsne/). "
   ]
  },
  {
   "cell_type": "code",
   "execution_count": null,
   "metadata": {
    "collapsed": false
   },
   "outputs": [],
   "source": [
    "# Visualize Using PCA \n",
    "t0 = time()\n",
    "x_pca = PCA(n_components=2).fit_transform(x_train)\n",
    "t1 = time()\n",
    "print(\"PCA: %.2g sec\" % (t1 - t0))\n",
    "figure()\n",
    "ccm = cm.get_cmap('RdYlBu')\n",
    "scatter(x_pca[:,0], x_pca[:,1], c=y_train, cmap=ccm)\n",
    "title('PCA Visualization of Cuisines')"
   ]
  },
  {
   "cell_type": "code",
   "execution_count": null,
   "metadata": {
    "collapsed": false
   },
   "outputs": [],
   "source": [
    "# Visualize Using t-SNE\n",
    "print(\"Computing t-SNE embedding\")\n",
    "t0 = time()\n",
    "tsne = TSNE(n_components=2, init='pca', random_state=0)\n",
    "x_tsne = tsne.fit_transform(x_train)\n",
    "t1 = time()\n",
    "print(\"t-SNE: %.2g sec\" % (t1 - t0))\n",
    "figure()\n",
    "scatter(x_tsne[:,0], x_tsne[:,1], c=y_train, cmap=ccm)\n",
    "title('t-SNE Visualization of Cuisines')"
   ]
  },
  {
   "cell_type": "code",
   "execution_count": null,
   "metadata": {
    "collapsed": true
   },
   "outputs": [],
   "source": []
  }
 ],
 "metadata": {
  "kernelspec": {
   "display_name": "Python 2",
   "language": "python",
   "name": "python2"
  },
  "language_info": {
   "codemirror_mode": {
    "name": "ipython",
    "version": 2
   },
   "file_extension": ".py",
   "mimetype": "text/x-python",
   "name": "python",
   "nbconvert_exporter": "python",
   "pygments_lexer": "ipython2",
   "version": "2.7.9"
  }
 },
 "nbformat": 4,
 "nbformat_minor": 0
}
